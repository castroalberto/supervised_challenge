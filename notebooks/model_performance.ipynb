{
 "cells": [
  {
   "cell_type": "markdown",
   "metadata": {},
   "source": [
    "# Model Performance Transformations\n",
    "\n",
    "Lets practice some basic data transformation for ML performance enhancement"
   ]
  },
  {
   "cell_type": "code",
   "execution_count": null,
   "metadata": {},
   "outputs": [],
   "source": [
    "# Imports\n",
    "\n",
    "import numpy as np\n",
    "import pandas as pd\n",
    "from sklearn.preprocessing import RobustScaler, StandardScaler\n",
    "from sklearn.preprocessing import OneHotEncoder, OrdinalEncoder\n",
    "from sklearn.model_selection import train_test_split\n",
    "from sklearn.linear_model import LogisticRegression\n",
    "from sklearn.ensemble import RandomForestClassifier\n",
    "from sklearn.metrics import roc_auc_score"
   ]
  },
  {
   "cell_type": "code",
   "execution_count": null,
   "metadata": {},
   "outputs": [],
   "source": [
    "# Categorical data analyser\n",
    "\n",
    "def cat_var(df, cols):\n",
    "    '''\n",
    "    Return: a Pandas dataframe object with the following columns:\n",
    "        - \"categorical_variable\" => every categorical variable include as an input parameter (string).\n",
    "        - \"number_of_possible_values\" => the amount of unique values that can take a given categorical variable (integer).\n",
    "        - \"values\" => a list with the posible unique values for every categorical variable (list).\n",
    "\n",
    "    Input parameters:\n",
    "        - df -> Pandas dataframe object: a dataframe with categorical variables.\n",
    "        - cols -> list object: a list with the name (string) of every categorical variable to analyse.\n",
    "    '''\n",
    "    cat_list = []\n",
    "    for col in cols:\n",
    "        cat = df[col].unique()\n",
    "        cat_num = len(cat)\n",
    "        cat_dict = {\"categorical_variable\":col,\n",
    "                    \"number_of_possible_values\":cat_num,\n",
    "                    \"values\":cat}\n",
    "        cat_list.append(cat_dict)\n",
    "    df = pd.DataFrame(cat_list).sort_values(by=\"number_of_possible_values\", ascending=False)\n",
    "    return df.reset_index(drop=True)"
   ]
  },
  {
   "cell_type": "markdown",
   "metadata": {},
   "source": [
    "## Scaling\n",
    "\n",
    "Some ML algorithms have problems performing well whenever the data scale differ greatly between features. In those cases scaling the data is your best option.\n",
    "\n",
    "- [RobustScaler](https://scikit-learn.org/stable/modules/generated/sklearn.preprocessing.RobustScaler.html#sklearn.preprocessing.RobustScaler)\n",
    "\n",
    "- [StandardScaler](https://scikit-learn.org/stable/modules/generated/sklearn.preprocessing.StandardScaler.html#sklearn.preprocessing.StandardScaler)\n",
    "\n",
    "Try both options and see what happens with performance (i.e.: AUC).\n",
    "\n",
    "<img src=\"../images/scaling.png\" alt=\"Drawing\" style=\"width: 500px;\"/>"
   ]
  },
  {
   "cell_type": "code",
   "execution_count": null,
   "metadata": {},
   "outputs": [],
   "source": [
    "# Weather dataset (https://www.kaggle.com/jsphyg/weather-dataset-rattle-package)\n",
    "\n",
    "weather = pd.read_csv('../data/weatherAUS.csv')\n",
    "print(weather.shape)\n",
    "weather.head()"
   ]
  },
  {
   "cell_type": "code",
   "execution_count": null,
   "metadata": {},
   "outputs": [],
   "source": [
    "# Uluru weather (numerical features)\n",
    "\n",
    "weather = weather[weather['Location'].isin(['Uluru'])].reset_index(drop=True)\n",
    "weather = weather[weather['RainToday'].isin(['No','Yes'])].reset_index(drop=True)\n",
    "weather = weather[weather['RainTomorrow'].isin(['No','Yes'])]\n",
    "weather = weather[['MinTemp',\n",
    "                   'MaxTemp',\n",
    "                   'Rainfall',\n",
    "                   'WindSpeed9am',\n",
    "                   'WindSpeed3pm',\n",
    "                   'Humidity9am',\n",
    "                   'Humidity3pm',\n",
    "                   'Pressure9am',\n",
    "                   'Pressure3pm',\n",
    "                   'Temp9am',\n",
    "                   'Temp3pm',\n",
    "                   'RainTomorrow']]\n",
    "weather = weather.dropna().reset_index(drop=True)\n",
    "col_weather = list(weather.columns)\n",
    "print(col_weather)\n",
    "print(weather.shape)\n",
    "print(weather.describe())\n",
    "weather.head()"
   ]
  },
  {
   "cell_type": "code",
   "execution_count": null,
   "metadata": {},
   "outputs": [],
   "source": [
    "# Features + target\n",
    "\n",
    "X = weather[['MinTemp',\n",
    "          'MaxTemp',\n",
    "          'Rainfall',\n",
    "          'WindSpeed9am',\n",
    "          'WindSpeed3pm',\n",
    "          'Humidity9am',\n",
    "          'Humidity3pm',\n",
    "          'Pressure9am',\n",
    "          'Pressure3pm',\n",
    "          'Temp9am',\n",
    "          'Temp3pm']]\n",
    "y = pd.get_dummies(weather['RainTomorrow'], drop_first=True)['Yes']\n",
    "print(X.shape,y.shape)"
   ]
  },
  {
   "cell_type": "code",
   "execution_count": null,
   "metadata": {},
   "outputs": [],
   "source": [
    "# Train + test\n",
    "\n",
    "X_train, X_test, y_train, y_test = train_test_split(X, y, test_size=0.2, random_state=42)\n",
    "print(f\"X_train: {X_train.shape}, X_test: {X_test.shape}, y_train: {y_train.shape}, y_test: {y_test.shape}\")\n",
    "print(f\"X_train: {type(X_train)}, X_test: {type(X_test)}, y_train: {type(y_train)}, y_test: {type(y_test)}\")"
   ]
  },
  {
   "cell_type": "markdown",
   "metadata": {},
   "source": [
    "# Scaling - RobustScaler"
   ]
  },
  {
   "cell_type": "code",
   "execution_count": null,
   "metadata": {},
   "outputs": [],
   "source": [
    "scaler = RobustScaler()\n",
    "scaled_data_rs = scaler.fit_transform(X_train)\n",
    "scaled_data_rs"
   ]
  },
  {
   "cell_type": "code",
   "execution_count": null,
   "metadata": {},
   "outputs": [],
   "source": [
    "#X_train = scaled_data_rs\n",
    "X_train"
   ]
  },
  {
   "cell_type": "code",
   "execution_count": null,
   "metadata": {},
   "outputs": [],
   "source": [
    "scaled_data_test = scaler.transform(X_test)\n",
    "scaled_data_test"
   ]
  },
  {
   "cell_type": "code",
   "execution_count": null,
   "metadata": {},
   "outputs": [],
   "source": [
    "#X_test = scaled_data_test\n",
    "X_test"
   ]
  },
  {
   "cell_type": "code",
   "execution_count": null,
   "metadata": {},
   "outputs": [],
   "source": [
    "# Linear model - Sin escalar \n",
    "\n",
    "linear_model = LogisticRegression(max_iter=1000)\n",
    "linear_param = linear_model.fit(X_train, y_train)\n",
    "linear_pred = linear_model.predict(X_test)\n",
    "linear_auc = roc_auc_score(y_test, linear_pred)\n",
    "print(f\"Linear model AUC is: {linear_auc}\")"
   ]
  },
  {
   "cell_type": "code",
   "execution_count": null,
   "metadata": {},
   "outputs": [],
   "source": [
    "# Ensemble model\n",
    "\n",
    "ensemble_model = RandomForestClassifier()\n",
    "ensemble_param = ensemble_model.fit(X_train, y_train)\n",
    "ensemble_pred = ensemble_model.predict(X_test)\n",
    "ensemble_auc = roc_auc_score(y_test, ensemble_pred)\n",
    "print(f\"Linear model AUC is: {ensemble_auc}\")"
   ]
  },
  {
   "cell_type": "markdown",
   "metadata": {},
   "source": [
    "---"
   ]
  },
  {
   "cell_type": "markdown",
   "metadata": {},
   "source": [
    "# Scaling - StandardScalerc"
   ]
  },
  {
   "cell_type": "code",
   "execution_count": null,
   "metadata": {},
   "outputs": [],
   "source": [
    "scaler = StandardScaler()\n",
    "scaled_data = scaler.fit_transform(X_train)\n",
    "X_train = scaled_data\n",
    "X_train"
   ]
  },
  {
   "cell_type": "code",
   "execution_count": null,
   "metadata": {},
   "outputs": [],
   "source": [
    "x_test= scaler.transform(X_test) \n",
    "X_test = x_test"
   ]
  },
  {
   "cell_type": "code",
   "execution_count": null,
   "metadata": {},
   "outputs": [],
   "source": [
    "# Linear model StandardScalerc\n",
    "\n",
    "linear_model = LogisticRegression(max_iter=1000)\n",
    "linear_param = linear_model.fit(X_train, y_train)\n",
    "linear_pred = linear_model.predict(X_test)\n",
    "linear_auc = roc_auc_score(y_test, linear_pred)\n",
    "print(f\"Linear model AUC is: {linear_auc}\")"
   ]
  },
  {
   "cell_type": "code",
   "execution_count": null,
   "metadata": {},
   "outputs": [],
   "source": [
    "# Ensemble model StandardScalerc\n",
    "\n",
    "ensemble_model = RandomForestClassifier()\n",
    "ensemble_param = ensemble_model.fit(X_train, y_train)\n",
    "ensemble_pred = ensemble_model.predict(X_test)\n",
    "ensemble_auc = roc_auc_score(y_test, ensemble_pred)\n",
    "print(f\"Linear model AUC is: {ensemble_auc}\")"
   ]
  },
  {
   "cell_type": "markdown",
   "metadata": {},
   "source": [
    "## Enconding\n",
    "\n",
    "ML algorithms do not support categorical data. Therefore you need to find a way to transform categorical data into numerical. You must compare the results using both techniques: __One Hot Encoding__ or __Label Encoding__\n",
    "\n",
    "- [OneHotEncoder](https://scikit-learn.org/stable/modules/generated/sklearn.preprocessing.OneHotEncoder.html#sklearn.preprocessing.OneHotEncoder)\n",
    "\n",
    "- [LabelEncoder](https://scikit-learn.org/stable/modules/generated/sklearn.preprocessing.LabelEncoder.html#sklearn.preprocessing.LabelEncoder)\n",
    "\n",
    "<img src=\"../images/encoding.png\" alt=\"Drawing\" style=\"width: 500px;\"/>"
   ]
  },
  {
   "cell_type": "code",
   "execution_count": null,
   "metadata": {},
   "outputs": [],
   "source": [
    "# Mushrooms dataset (https://www.kaggle.com/uciml/mushroom-classification)\n",
    "\n",
    "mushrooms = pd.read_csv('../data/mushrooms.csv')\n",
    "col_mushrooms = list(mushrooms.columns)\n",
    "print(mushrooms.shape)\n",
    "mushrooms.head()"
   ]
  },
  {
   "cell_type": "code",
   "execution_count": null,
   "metadata": {
    "scrolled": false
   },
   "outputs": [],
   "source": [
    "# Features analysis\n",
    "\n",
    "cat_mushrooms = cat_var(mushrooms, col_mushrooms)\n",
    "cat_mushrooms"
   ]
  },
  {
   "cell_type": "code",
   "execution_count": null,
   "metadata": {},
   "outputs": [],
   "source": [
    "cat_cols = ['cap-shape',\n",
    "               'cap-surface',\n",
    "               'cap-color',\n",
    "               'bruises',\n",
    "               'odor',\n",
    "               'gill-attachment',\n",
    "               'gill-spacing',\n",
    "               'gill-size',\n",
    "               'gill-color',\n",
    "               'stalk-surface-below-ring',\n",
    "               'stalk-color-above-ring',\n",
    "               'stalk-color-below-ring',\n",
    "               'veil-type',\n",
    "               'veil-color',\n",
    "               'ring-number',\n",
    "               'ring-type',\n",
    "               'spore-print-color',\n",
    "               'population', \n",
    "               'habitat']\n",
    "mushrooms_encoded = mushrooms[cat_cols]\n",
    "mushrooms_encoded"
   ]
  },
  {
   "cell_type": "code",
   "execution_count": null,
   "metadata": {},
   "outputs": [],
   "source": [
    "def ordinal_encoding(x):\n",
    "    if x == '?':\n",
    "        return 27\n",
    "    return ord(x) - 96"
   ]
  },
  {
   "cell_type": "code",
   "execution_count": null,
   "metadata": {},
   "outputs": [],
   "source": [
    "# para evitar el error hago un copy\n",
    "mushrooms_encoded = mushrooms[cat_cols].copy()\n",
    "\n",
    "for col in cat_cols:\n",
    "    mushrooms_encoded[col] = mushrooms_encoded[col].apply(ordinal_encoding)\n",
    "\n",
    "mushrooms_encoded"
   ]
  },
  {
   "cell_type": "code",
   "execution_count": null,
   "metadata": {},
   "outputs": [],
   "source": [
    "mushrooms_encoded.info()"
   ]
  },
  {
   "cell_type": "code",
   "execution_count": null,
   "metadata": {},
   "outputs": [],
   "source": [
    "mushrooms_check = cat_var(mushrooms_encoded, cat_cols)\n",
    "mushrooms_check"
   ]
  },
  {
   "cell_type": "code",
   "execution_count": null,
   "metadata": {},
   "outputs": [],
   "source": [
    "#FEATURES\n",
    "X = mushrooms_encoded[['cap-shape',\n",
    "               'cap-surface',\n",
    "               'cap-color',\n",
    "               'bruises',\n",
    "               'odor',\n",
    "               'gill-attachment',\n",
    "               'gill-spacing',\n",
    "               'gill-size',\n",
    "               'gill-color',\n",
    "               'stalk-surface-below-ring',\n",
    "               'stalk-color-above-ring',\n",
    "               'stalk-color-below-ring',\n",
    "               'veil-type',\n",
    "               'veil-color',\n",
    "               'ring-number',\n",
    "               'ring-type',\n",
    "               'spore-print-color',\n",
    "               'population', \n",
    "               'habitat']]\n",
    "#TARGET\n",
    "y = pd.get_dummies(mushrooms['class'], \n",
    "                   drop_first=True)\n",
    "print(X.shape,y.shape)"
   ]
  },
  {
   "cell_type": "code",
   "execution_count": null,
   "metadata": {},
   "outputs": [],
   "source": [
    "# Train + test\n",
    "\n",
    "X_train, X_test, y_train, y_test = train_test_split(X, y, test_size=0.2, random_state=42)\n",
    "print(f\"X_train: {X_train.shape}, X_test: {X_test.shape}, y_train: {y_train.shape}, y_test: {y_test.shape}\")\n",
    "print(f\"X_train: {type(X_train)}, X_test: {type(X_test)}, y_train: {type(y_train)}, y_test: {type(y_test)}\")"
   ]
  },
  {
   "cell_type": "code",
   "execution_count": null,
   "metadata": {},
   "outputs": [],
   "source": [
    "# Scaling\n",
    "\n",
    "scaler = RobustScaler()\n",
    "scaled_data_mushrooms_lab = scaler.fit_transform(X_train)\n",
    "scaled_data_mushrooms_lab"
   ]
  },
  {
   "cell_type": "code",
   "execution_count": null,
   "metadata": {},
   "outputs": [],
   "source": [
    "# Linear model\n",
    "\n",
    "linear_model = LogisticRegression(max_iter=1000)\n",
    "linear_param = linear_model.fit(X_train, y_train)\n",
    "linear_pred = linear_model.predict(X_test)\n",
    "linear_auc = roc_auc_score(y_test, linear_pred)\n",
    "print(f\"Linear model AUC is: {linear_auc}\")"
   ]
  },
  {
   "cell_type": "code",
   "execution_count": null,
   "metadata": {},
   "outputs": [],
   "source": [
    "# Ensemble model\n",
    "\n",
    "ensemble_model = RandomForestClassifier()\n",
    "ensemble_param = ensemble_model.fit(X_train, y_train)\n",
    "ensemble_pred = ensemble_model.predict(X_test)\n",
    "ensemble_auc = roc_auc_score(y_test, ensemble_pred)\n",
    "print(f\"Linear model AUC is: {ensemble_auc}\")"
   ]
  },
  {
   "cell_type": "markdown",
   "metadata": {},
   "source": [
    "---"
   ]
  },
  {
   "cell_type": "code",
   "execution_count": null,
   "metadata": {},
   "outputs": [],
   "source": [
    "#ONE HOT ENCODING\n",
    "\n",
    "categorical_cols = ['cap-shape',\n",
    "               'cap-surface',\n",
    "               'cap-color',\n",
    "               'bruises',\n",
    "               'odor',\n",
    "               'gill-attachment',\n",
    "               'gill-spacing',\n",
    "               'gill-size',\n",
    "               'gill-color',\n",
    "               'stalk-surface-below-ring',\n",
    "               'stalk-color-above-ring',\n",
    "               'stalk-color-below-ring',\n",
    "               'veil-type',\n",
    "               'veil-color',\n",
    "               'ring-number',\n",
    "               'ring-type',\n",
    "               'spore-print-color',\n",
    "               'population', \n",
    "               'habitat']"
   ]
  },
  {
   "cell_type": "code",
   "execution_count": null,
   "metadata": {},
   "outputs": [],
   "source": [
    "mushrooms_one_hot_encoding = pd.get_dummies(mushrooms[categorical_cols],\n",
    "                                            columns=['cap-shape',\n",
    "               'cap-surface',\n",
    "               'cap-color',\n",
    "               'bruises',\n",
    "               'odor',\n",
    "               'gill-attachment',\n",
    "               'gill-spacing',\n",
    "               'gill-size',\n",
    "               'gill-color',\n",
    "               'stalk-surface-below-ring',\n",
    "               'stalk-color-above-ring',\n",
    "               'stalk-color-below-ring',\n",
    "               'veil-type',\n",
    "               'veil-color',\n",
    "               'ring-number',\n",
    "               'ring-type',\n",
    "               'spore-print-color',\n",
    "               'population', \n",
    "               'habitat'], \n",
    "                                            drop_first=True)\n",
    "mushrooms_one_hot_encoding"
   ]
  },
  {
   "cell_type": "code",
   "execution_count": null,
   "metadata": {},
   "outputs": [],
   "source": [
    "mushrooms_one_hot_encoding.info()"
   ]
  },
  {
   "cell_type": "code",
   "execution_count": null,
   "metadata": {},
   "outputs": [],
   "source": [
    "# Features + target\n",
    "\n",
    "X = mushrooms_one_hot_encoding[['cap-shape_c',\n",
    "                                'cap-shape_f',\n",
    "                                'cap-shape_k',\n",
    "                                'cap-shape_s',\n",
    "                                'cap-shape_x',\n",
    "                                'cap-surface_g',\n",
    "                                'cap-surface_s',\n",
    "                                'cap-surface_y',\n",
    "                                'cap-color_c',\n",
    "                                'cap-color_e',\n",
    "                                'cap-color_g',\n",
    "                                'cap-color_n',\n",
    "                                'cap-color_p',\n",
    "                                'cap-color_r',\n",
    "                                'cap-color_u',\n",
    "                                'cap-color_w',\n",
    "                                'cap-color_y',\n",
    "                                'bruises_t',\n",
    "                                'odor_c',\n",
    "                                'odor_f',\n",
    "                                'odor_l',\n",
    "                                'odor_m',\n",
    "                                'odor_n',\n",
    "                                'odor_p',\n",
    "                                'odor_s',\n",
    "                                'odor_y',\n",
    "                                'gill-attachment_f',\n",
    "                                'gill-spacing_w',\n",
    "                                'gill-size_n',\n",
    "                                'gill-color_e',\n",
    "                                'gill-color_g',\n",
    "                                'gill-color_h',\n",
    "                                'gill-color_k',\n",
    "                                'gill-color_n',\n",
    "                                'gill-color_o',\n",
    "                                'gill-color_p',\n",
    "                                'gill-color_r',\n",
    "                                'gill-color_u',\n",
    "                                'gill-color_w',\n",
    "                                'gill-color_y',\n",
    "                                'stalk-surface-below-ring_k',\n",
    "                                'stalk-surface-below-ring_s',\n",
    "                                'stalk-surface-below-ring_y',\n",
    "                                'stalk-color-above-ring_c',\n",
    "                                'stalk-color-above-ring_e',\n",
    "                                'stalk-color-above-ring_g',\n",
    "                                'stalk-color-above-ring_n',\n",
    "                                'stalk-color-above-ring_o',\n",
    "                                'stalk-color-above-ring_p',\n",
    "                                'stalk-color-above-ring_w',\n",
    "                                'stalk-color-above-ring_y',\n",
    "                                'stalk-color-below-ring_c',\n",
    "                                'stalk-color-below-ring_e',\n",
    "                                'stalk-color-below-ring_g',\n",
    "                                'stalk-color-below-ring_n',\n",
    "                                'stalk-color-below-ring_o',\n",
    "                                'stalk-color-below-ring_p',\n",
    "                                'stalk-color-below-ring_w',\n",
    "                                'stalk-color-below-ring_y',\n",
    "                                'veil-color_o',\n",
    "                                'veil-color_w',\n",
    "                                'veil-color_y',\n",
    "                                'ring-number_o',\n",
    "                                'ring-number_t',\n",
    "                                'ring-type_f',\n",
    "                                'ring-type_l',\n",
    "                                'ring-type_n',\n",
    "                                'ring-type_p',\n",
    "                                'spore-print-color_h',\n",
    "                                'spore-print-color_k',\n",
    "                                'spore-print-color_n',\n",
    "                                'spore-print-color_o',\n",
    "                                'spore-print-color_r',\n",
    "                                'spore-print-color_u',\n",
    "                                'spore-print-color_w',\n",
    "                                'spore-print-color_y',\n",
    "                                'population_c',\n",
    "                                'population_n',\n",
    "                                'population_s',\n",
    "                                'population_v',\n",
    "                                'population_y',\n",
    "                                'habitat_g',\n",
    "                                'habitat_l',\n",
    "                                'habitat_m',\n",
    "                                'habitat_p',\n",
    "                                'habitat_u',\n",
    "                                'habitat_w']]\n",
    "y = pd.get_dummies(mushrooms['class'], drop_first=True)\n",
    "print(X.shape,y.shape)"
   ]
  },
  {
   "cell_type": "code",
   "execution_count": null,
   "metadata": {},
   "outputs": [],
   "source": [
    "# Linear model\n",
    "\n",
    "linear_model = LogisticRegression(max_iter=1000)\n",
    "linear_param = linear_model.fit(X_train, y_train)\n",
    "linear_pred = linear_model.predict(X_test)\n",
    "linear_auc = roc_auc_score(y_test, linear_pred)\n",
    "print(f\"Linear model AUC is: {linear_auc}\")"
   ]
  },
  {
   "cell_type": "code",
   "execution_count": null,
   "metadata": {},
   "outputs": [],
   "source": [
    "# Ensemble model\n",
    "\n",
    "ensemble_model = RandomForestClassifier()\n",
    "ensemble_param = ensemble_model.fit(X_train, y_train)\n",
    "ensemble_pred = ensemble_model.predict(X_test)\n",
    "ensemble_auc = roc_auc_score(y_test, ensemble_pred)\n",
    "print(f\"Linear model AUC is: {ensemble_auc}\")"
   ]
  },
  {
   "cell_type": "markdown",
   "metadata": {},
   "source": [
    "## Bonus\n",
    "\n",
    "Now that you can grasp the potential of pre-processing your data...what would you do about the following dataset?\n",
    "\n",
    "<img src=\"../images/bonus.jpg\" alt=\"Drawing\" style=\"width: 500px;\"/>"
   ]
  },
  {
   "cell_type": "code",
   "execution_count": null,
   "metadata": {},
   "outputs": [],
   "source": [
    "# Netflix dataset (https://www.kaggle.com/shivamb/netflix-shows)\n",
    "\n",
    "netflix = pd.read_csv('../data/netflix_titles.csv')\n",
    "col_netflix = list(netflix.columns)\n",
    "print(netflix.shape)\n",
    "netflix.head()"
   ]
  },
  {
   "cell_type": "code",
   "execution_count": null,
   "metadata": {},
   "outputs": [],
   "source": [
    "# ML workflow -> ¿what would you do?\n",
    "\n",
    "\n",
    "\n",
    "\n",
    "\n",
    "\n",
    "\n",
    "\n"
   ]
  },
  {
   "cell_type": "markdown",
   "metadata": {},
   "source": [
    "---"
   ]
  },
  {
   "cell_type": "code",
   "execution_count": null,
   "metadata": {},
   "outputs": [],
   "source": []
  },
  {
   "cell_type": "code",
   "execution_count": null,
   "metadata": {},
   "outputs": [],
   "source": []
  }
 ],
 "metadata": {
  "kernelspec": {
   "display_name": "Python (m3)",
   "language": "python",
   "name": "m3"
  },
  "language_info": {
   "codemirror_mode": {
    "name": "ipython",
    "version": 3
   },
   "file_extension": ".py",
   "mimetype": "text/x-python",
   "name": "python",
   "nbconvert_exporter": "python",
   "pygments_lexer": "ipython3",
   "version": "3.10.13"
  }
 },
 "nbformat": 4,
 "nbformat_minor": 2
}
